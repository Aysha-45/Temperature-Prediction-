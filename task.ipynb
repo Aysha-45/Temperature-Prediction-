class TemperaturePredictor:
    def __init__(self, lookback_period, forecast_horizon=10):
        self.lookback = lookback_period
        self.forecast_horizon = forecast_horizon
        self.scaler = StandardScaler()
        self.lr_model = LinearRegression()
        self.svr_model = SVR(kernel='rbf', C=100, gamma='auto')
        
    def create_features(self, df):
        X, y = [], []
        temp = df['Temperature'].values
        hum = df['Humidity'].values
        
        for i in range(len(df) - self.lookback - self.forecast_horizon):
            temp_features = temp[i : i + self.lookback]
            hum_features = hum[i : i + self.lookback]
            features = np.concatenate([temp_features, hum_features])
            label = temp[i + self.lookback + self.forecast_horizon - 1]
            
            X.append(features)
            y.append(label)
        
        return np.array(X), np.array(y)
    
    def train(self, X, y):
        # Train test split (80:20)
        X_train, X_test, y_train, y_test = train_test_split(X, y, 
                                                           test_size=0.2, 
                                                           shuffle=False)
        
        # Scale features
        X_train_scaled = self.scaler.fit_transform(X_train)
        X_test_scaled = self.scaler.transform(X_test)
        
        # Train models
        self.lr_model.fit(X_train_scaled, y_train)
        self.svr_model.fit(X_train_scaled, y_train)
        
        # Make predictions
        y_pred_lr = self.lr_model.predict(X_test_scaled)
        y_pred_svr = self.svr_model.predict(X_test_scaled)
        
        return {
            'X_train': X_train,
            'X_test': X_test,
            'y_train': y_train,
            'y_test': y_test,
            'y_pred_lr': y_pred_lr,
            'y_pred_svr': y_pred_svr,
            'metrics': {
                'lr': {
                    'mae': mean_absolute_error(y_test, y_pred_lr),
                    'mse': mean_squared_error(y_test, y_pred_lr),
                    'rmse': sqrt(mean_squared_error(y_test, y_pred_lr))
                },
                'svr': {
                    'mae': mean_absolute_error(y_test, y_pred_svr),
                    'mse': mean_squared_error(y_test, y_pred_svr),
                    'rmse': sqrt(mean_squared_error(y_test, y_pred_svr))
                }
            }
        }
    
    def predict(self, df):
        latest_temp = df['Temperature'].values[-self.lookback:]
        latest_hum = df['Humidity'].values[-self.lookback:]
        latest_features = np.concatenate([latest_temp, latest_hum]).reshape(1, -1)
        latest_features_scaled = self.scaler.transform(latest_features)
        
        next_temp_lr = self.lr_model.predict(latest_features_scaled)[0]
        next_temp_svr = self.svr_model.predict(latest_features_scaled)[0]
        
        return next_temp_lr, next_temp_svr
